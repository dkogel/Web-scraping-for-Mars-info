{
 "cells": [
  {
   "cell_type": "code",
   "execution_count": 7,
   "id": "9a68cffc",
   "metadata": {},
   "outputs": [],
   "source": [
    "from splinter import Browser\n",
    "from bs4 import BeautifulSoup as bs\n",
    "import time\n",
    "from webdriver_manager.chrome import  ChromeDriverManager\n",
    "import pandas as pd"
   ]
  },
  {
   "cell_type": "code",
   "execution_count": 23,
   "id": "4c355289",
   "metadata": {},
   "outputs": [],
   "source": [
    "\n",
    "def scrape_info():\n",
    "    #set up splinter\n",
    "    executable_path = {'executable_path':ChromeDriverManager().install()}\n",
    "    browser= Browser('chrome', **executable_path, headless=False)\n",
    "    \n",
    "    \n",
    "    # NASA Mars News\n",
    "    nasa_url = \"https://redplanetscience.com/\"\n",
    "    browser.visit(nasa_url)\n",
    "    time.sleep(1)\n",
    "    html= browser.html\n",
    "    soup= bs(html, \"html.parser\")\n",
    "    news_title = soup.find('div', class_='content_title').get_text()\n",
    "    news_p = soup.find('div', class_='article_teaser_body').get_text()\n",
    "\n",
    "    \n",
    "    # JPL Mars Space Images - Featured Image\n",
    "    jpl_url = \"https://spaceimages-mars.com/\"\n",
    "    browser.visit(jpl_url)\n",
    "    time.sleep(1)\n",
    "    html = browser.html\n",
    "    soup= bs(html, \"html.parser\")\n",
    "    relative_img_url = soup.findAll('img')[1]['src']\n",
    "    featured_img_url = f'{jpl_url}{relative_img_url}'\n",
    "    \n",
    "    \n",
    "\n",
    "    \n",
    "    \n",
    "    browser.quit()                                     \n",
    "    return print(news_title), print(news_p), print(featured_img_url)\n",
    "\n",
    "\n",
    "def mars_facts():\n",
    "    \n",
    "    # set up splinter\n",
    "    executable_path = {'executable_path':ChromeDriverManager().install()}\n",
    "    browser= Browser('chrome', **executable_path, headless=False)\n",
    "    \n",
    "    \n",
    "    facts_url= 'https://galaxyfacts-mars.com/'\n",
    "    browser.visit(facts_url)\n",
    "    time.sleep(1)\n",
    "    tables= pd.read_html(facts_url)\n",
    "    tables_df= tables[0]\n",
    "    browser.quit() \n",
    "    return tables_df\n",
    "\n",
    "\n",
    "\n",
    "\n"
   ]
  },
  {
   "cell_type": "code",
   "execution_count": 24,
   "id": "4bb4593f",
   "metadata": {
    "scrolled": true
   },
   "outputs": [
    {
     "name": "stderr",
     "output_type": "stream",
     "text": [
      "\n",
      "\n",
      "====== WebDriver manager ======\n",
      "Current google-chrome version is 96.0.4664\n",
      "Get LATEST chromedriver version for 96.0.4664 google-chrome\n",
      "Driver [C:\\Users\\dkoge\\.wdm\\drivers\\chromedriver\\win32\\96.0.4664.45\\chromedriver.exe] found in cache\n",
      "\n",
      "\n",
      "====== WebDriver manager ======\n",
      "Current google-chrome version is 96.0.4664\n",
      "Get LATEST chromedriver version for 96.0.4664 google-chrome\n",
      "Driver [C:\\Users\\dkoge\\.wdm\\drivers\\chromedriver\\win32\\96.0.4664.45\\chromedriver.exe] found in cache\n"
     ]
    },
    {
     "name": "stdout",
     "output_type": "stream",
     "text": [
      "Mars Scientists Investigate Ancient Life in Australia\n",
      "Teams with NASA's Mars 2020 and ESA's ExoMars practiced hunting for fossilized microbial life in the Australian Outback in preparation for their Red Planet missions. \n",
      "https://spaceimages-mars.com/image/featured/mars2.jpg\n"
     ]
    }
   ],
   "source": [
    "#call functions\n",
    "scrape_info()\n",
    "tables_df = mars_facts()"
   ]
  },
  {
   "cell_type": "code",
   "execution_count": 41,
   "id": "8dcd1141",
   "metadata": {
    "scrolled": true
   },
   "outputs": [
    {
     "name": "stdout",
     "output_type": "stream",
     "text": [
      "                    0                1\n",
      "1           Diameter:         6,779 km\n",
      "2               Mass:  6.39 × 10^23 kg\n",
      "3              Moons:                2\n",
      "4  Distance from Sun:   227,943,824 km\n",
      "5     Length of Year:   687 Earth days\n",
      "\n",
      "-------\n",
      "\n",
      "<table border=\"1\" class=\"dataframe\">\n",
      "  <thead>\n",
      "    <tr style=\"text-align: right;\">\n",
      "      <th></th>\n",
      "      <th>0</th>\n",
      "      <th>1</th>\n",
      "    </tr>\n",
      "  </thead>\n",
      "  <tbody>\n",
      "    <tr>\n",
      "      <th>1</th>\n",
      "      <td>Diameter:</td>\n",
      "      <td>6,779 km</td>\n",
      "    </tr>\n",
      "    <tr>\n",
      "      <th>2</th>\n",
      "      <td>Mass:</td>\n",
      "      <td>6.39 × 10^23 kg</td>\n",
      "    </tr>\n",
      "    <tr>\n",
      "      <th>3</th>\n",
      "      <td>Moons:</td>\n",
      "      <td>2</td>\n",
      "    </tr>\n",
      "    <tr>\n",
      "      <th>4</th>\n",
      "      <td>Distance from Sun:</td>\n",
      "      <td>227,943,824 km</td>\n",
      "    </tr>\n",
      "    <tr>\n",
      "      <th>5</th>\n",
      "      <td>Length of Year:</td>\n",
      "      <td>687 Earth days</td>\n",
      "    </tr>\n",
      "    <tr>\n",
      "      <th>6</th>\n",
      "      <td>Temperature:</td>\n",
      "      <td>-87 to -5 °C</td>\n",
      "    </tr>\n",
      "  </tbody>\n",
      "</table>\n"
     ]
    }
   ],
   "source": [
    "#clean and convert mars info table to HTML\n",
    "tables_df_clean= tables_df[[0,1]]\n",
    "tables_df_final= tables_df_clean.iloc[1: , :]\n",
    "html_table= tables_df_final.to_html()\n",
    "print(tables_df_final.head())\n",
    "print('')\n",
    "print('-------')\n",
    "print('')\n",
    "print(html_table)"
   ]
  },
  {
   "cell_type": "code",
   "execution_count": null,
   "id": "263171dd",
   "metadata": {},
   "outputs": [],
   "source": []
  }
 ],
 "metadata": {
  "kernelspec": {
   "display_name": "Python 3",
   "language": "python",
   "name": "python3"
  },
  "language_info": {
   "codemirror_mode": {
    "name": "ipython",
    "version": 3
   },
   "file_extension": ".py",
   "mimetype": "text/x-python",
   "name": "python",
   "nbconvert_exporter": "python",
   "pygments_lexer": "ipython3",
   "version": "3.8.8"
  }
 },
 "nbformat": 4,
 "nbformat_minor": 5
}
