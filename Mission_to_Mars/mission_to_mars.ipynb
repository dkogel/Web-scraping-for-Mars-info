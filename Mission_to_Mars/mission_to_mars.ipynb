{
 "cells": [
  {
   "cell_type": "code",
   "execution_count": 1,
   "id": "9a68cffc",
   "metadata": {},
   "outputs": [],
   "source": [
    "from splinter import Browser\n",
    "from bs4 import BeautifulSoup as bs\n",
    "import time\n",
    "from webdriver_manager.chrome import  ChromeDriverManager"
   ]
  },
  {
   "cell_type": "code",
   "execution_count": 18,
   "id": "4c355289",
   "metadata": {},
   "outputs": [],
   "source": [
    "\n",
    "def scrape_info():\n",
    "    #set up splinter\n",
    "    executable_path = {'executable_path':ChromeDriverManager().install()}\n",
    "    browser= Browser('chrome', **executable_path, headless=False)\n",
    "    \n",
    "    ## mars news\n",
    "    url = \"https://redplanetscience.com/\"\n",
    "    browser.visit(url)\n",
    "    time.sleep(1)\n",
    "    \n",
    "    #scrape mars news into soup\n",
    "    html= browser.html\n",
    "    soup= bs(html, \"html.parser\")\n",
    "    news_title = soup.find('div', class_='content_title').get_text()\n",
    "    news_p = soup.find('div', class_='article_teaser_body').get_text()\n",
    "    browser.quit()\n",
    "\n",
    "    \n",
    "    ## mars space images\n",
    "    url2 = \"https://spaceimages-mars.com/\"\n",
    "    browser.visit(url2)\n",
    "    time.sleep(1)\n",
    "    \n",
    "    \n",
    "    #scrape space images  \n",
    "    html = browser.html\n",
    "    soup= bs(html, \"html.parser\")\n",
    "    relative_img_url = soup.findAll('img')[1]['src']\n",
    "    featured_img_url = f'{url2}{relative_img_url}'\n",
    "    browser.quit()\n",
    "                                 \n",
    "    return print(news_title), print(news_p), print(featured_img_url)\n",
    "\n",
    "\n",
    "\n",
    "\n"
   ]
  },
  {
   "cell_type": "code",
   "execution_count": 17,
   "id": "4bb4593f",
   "metadata": {},
   "outputs": [
    {
     "name": "stderr",
     "output_type": "stream",
     "text": [
      "\n",
      "\n",
      "====== WebDriver manager ======\n",
      "Current google-chrome version is 96.0.4664\n",
      "Get LATEST chromedriver version for 96.0.4664 google-chrome\n",
      "Driver [C:\\Users\\dkoge\\.wdm\\drivers\\chromedriver\\win32\\96.0.4664.45\\chromedriver.exe] found in cache\n"
     ]
    },
    {
     "name": "stdout",
     "output_type": "stream",
     "text": [
      "Global Storms on Mars Launch Dust Towers Into the Sky\n",
      "A Mars Dust Tower Stands Out Dust storms are common on Mars. But every decade or so, something unpredictable happens: a series of runaway storms break out, covering the entire planet in a dusty haze.\n",
      "https://spaceimages-mars.com/image/featured/mars2.jpg\n"
     ]
    },
    {
     "data": {
      "text/plain": [
       "(None, None, None)"
      ]
     },
     "execution_count": 17,
     "metadata": {},
     "output_type": "execute_result"
    }
   ],
   "source": [
    "scrape_info()"
   ]
  },
  {
   "cell_type": "code",
   "execution_count": null,
   "id": "8dcd1141",
   "metadata": {},
   "outputs": [],
   "source": []
  }
 ],
 "metadata": {
  "kernelspec": {
   "display_name": "Python 3",
   "language": "python",
   "name": "python3"
  },
  "language_info": {
   "codemirror_mode": {
    "name": "ipython",
    "version": 3
   },
   "file_extension": ".py",
   "mimetype": "text/x-python",
   "name": "python",
   "nbconvert_exporter": "python",
   "pygments_lexer": "ipython3",
   "version": "3.8.8"
  }
 },
 "nbformat": 4,
 "nbformat_minor": 5
}
