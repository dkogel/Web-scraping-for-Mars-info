{
 "cells": [
  {
   "cell_type": "code",
   "execution_count": 1,
   "id": "9a68cffc",
   "metadata": {},
   "outputs": [],
   "source": [
    "from splinter import Browser\n",
    "from bs4 import BeautifulSoup as bs\n",
    "import time\n",
    "from webdriver_manager.chrome import  ChromeDriverManager\n",
    "import pandas as pd"
   ]
  },
  {
   "cell_type": "code",
   "execution_count": 2,
   "id": "4c355289",
   "metadata": {},
   "outputs": [],
   "source": [
    "\n",
    "def scrape_info():\n",
    "    #set up splinter\n",
    "    executable_path = {'executable_path':ChromeDriverManager().install()}\n",
    "    browser= Browser('chrome', **executable_path, headless=False)\n",
    "    \n",
    "    \n",
    "    # NASA Mars News\n",
    "    nasa_url = \"https://redplanetscience.com/\"\n",
    "    browser.visit(nasa_url)\n",
    "    time.sleep(1)\n",
    "    html= browser.html\n",
    "    soup= bs(html, \"html.parser\")\n",
    "    news_title = soup.find('div', class_='content_title').get_text()\n",
    "    news_p = soup.find('div', class_='article_teaser_body').get_text()\n",
    "\n",
    "    \n",
    "    # JPL Mars Space Images - Featured Image\n",
    "    jpl_url = \"https://spaceimages-mars.com/\"\n",
    "    browser.visit(jpl_url)\n",
    "    time.sleep(1)\n",
    "    html = browser.html\n",
    "    soup= bs(html, \"html.parser\")\n",
    "    relative_img_url = soup.findAll('img')[1]['src']\n",
    "    featured_img_url = f'{jpl_url}{relative_img_url}'\n",
    "    \n",
    "    \n",
    "\n",
    "    \n",
    "    \n",
    "    browser.quit()                                     \n",
    "    return print(news_title), print(news_p), print(featured_img_url)\n",
    "\n",
    "\n",
    "def mars_facts():\n",
    "    \n",
    "    # set up splinter\n",
    "    executable_path = {'executable_path':ChromeDriverManager().install()}\n",
    "    browser= Browser('chrome', **executable_path, headless=False)\n",
    "    \n",
    "    \n",
    "    facts_url= 'https://galaxyfacts-mars.com/'\n",
    "    browser.visit(facts_url)\n",
    "    time.sleep(1)\n",
    "    tables= pd.read_html(facts_url)\n",
    "    tables_df= tables[0]\n",
    "    browser.quit() \n",
    "    return tables_df\n",
    "\n",
    "\n",
    "\n",
    "\n"
   ]
  },
  {
   "cell_type": "code",
   "execution_count": 3,
   "id": "4bb4593f",
   "metadata": {
    "scrolled": true
   },
   "outputs": [
    {
     "name": "stderr",
     "output_type": "stream",
     "text": [
      "\n",
      "\n",
      "====== WebDriver manager ======\n",
      "Current google-chrome version is 96.0.4664\n",
      "Get LATEST chromedriver version for 96.0.4664 google-chrome\n",
      "Trying to download new driver from https://chromedriver.storage.googleapis.com/96.0.4664.45/chromedriver_win32.zip\n",
      "Driver has been saved in cache [C:\\Users\\dkoge\\.wdm\\drivers\\chromedriver\\win32\\96.0.4664.45]\n",
      "\n",
      "\n",
      "====== WebDriver manager ======\n",
      "Current google-chrome version is 96.0.4664\n",
      "Get LATEST chromedriver version for 96.0.4664 google-chrome\n",
      "Driver [C:\\Users\\dkoge\\.wdm\\drivers\\chromedriver\\win32\\96.0.4664.45\\chromedriver.exe] found in cache\n"
     ]
    },
    {
     "name": "stdout",
     "output_type": "stream",
     "text": [
      "Independent Review Indicates NASA Prepared for Mars Sample Return Campaign\n",
      "NASA released an independent review report Tuesday indicating the agency is well positioned for its Mars Sample Return campaign to bring pristine samples from Mars to Earth for scientific study.\n",
      "https://spaceimages-mars.com/image/featured/mars3.jpg\n"
     ]
    }
   ],
   "source": [
    "#call functions\n",
    "scrape_info()\n",
    "tables_df = mars_facts()"
   ]
  },
  {
   "cell_type": "code",
   "execution_count": 24,
   "id": "8dcd1141",
   "metadata": {
    "scrolled": true
   },
   "outputs": [
    {
     "name": "stdout",
     "output_type": "stream",
     "text": [
      "                    0                1\n",
      "1           Diameter:         6,779 km\n",
      "2               Mass:  6.39 × 10^23 kg\n",
      "3              Moons:                2\n",
      "4  Distance from Sun:   227,943,824 km\n",
      "5     Length of Year:   687 Earth days\n",
      "\n",
      "-------\n",
      "\n",
      "<table border=\"1\" class=\"dataframe\">\n",
      "  <tbody>\n",
      "    <tr>\n",
      "      <td>Diameter:</td>\n",
      "      <td>6,779 km</td>\n",
      "    </tr>\n",
      "    <tr>\n",
      "      <td>Mass:</td>\n",
      "      <td>6.39 × 10^23 kg</td>\n",
      "    </tr>\n",
      "    <tr>\n",
      "      <td>Moons:</td>\n",
      "      <td>2</td>\n",
      "    </tr>\n",
      "    <tr>\n",
      "      <td>Distance from Sun:</td>\n",
      "      <td>227,943,824 km</td>\n",
      "    </tr>\n",
      "    <tr>\n",
      "      <td>Length of Year:</td>\n",
      "      <td>687 Earth days</td>\n",
      "    </tr>\n",
      "    <tr>\n",
      "      <td>Temperature:</td>\n",
      "      <td>-87 to -5 °C</td>\n",
      "    </tr>\n",
      "  </tbody>\n",
      "</table>\n"
     ]
    }
   ],
   "source": [
    "#clean and convert mars info table to HTML\n",
    "# tables_df_clean= tables_df[[0,1]]\n",
    "\n",
    "tables_df_final= tables_df.iloc[1: , 0:2]\n",
    "html_table= tables_df_final.to_html(index=False, header=False)\n",
    "print(tables_df_final.head())\n",
    "print('')\n",
    "print('-------')\n",
    "print('')\n",
    "print(html_table)"
   ]
  },
  {
   "cell_type": "code",
   "execution_count": 64,
   "id": "3fc25a81",
   "metadata": {},
   "outputs": [
    {
     "name": "stderr",
     "output_type": "stream",
     "text": [
      "\n",
      "\n",
      "====== WebDriver manager ======\n",
      "Current google-chrome version is 96.0.4664\n",
      "Get LATEST chromedriver version for 96.0.4664 google-chrome\n",
      "Driver [C:\\Users\\dkoge\\.wdm\\drivers\\chromedriver\\win32\\96.0.4664.45\\chromedriver.exe] found in cache\n"
     ]
    }
   ],
   "source": [
    "#astrogeology/hemispheres information scrape\n",
    "\n",
    "\n",
    "\n",
    "executable_path = {'executable_path': ChromeDriverManager().install()}\n",
    "browser = Browser('chrome', **executable_path, headless=False)\n",
    "\n",
    "base_url= 'https://marshemispheres.com/'\n",
    "cerberus_url = 'https://marshemispheres.com/cerberus.html'\n",
    "schiaparelli_url = 'https://marshemispheres.com/schiaparelli.html'\n",
    "syrtis_url ='https://marshemispheres.com/syrtis.html'\n",
    "valles_url = 'https://marshemispheres.com/valles.html'\n",
    "\n",
    "\n",
    "#cerberus\n",
    "browser.visit(cerberus_url)\n",
    "time.sleep(1)\n",
    "html = browser.html\n",
    "soup = bs(html, \"html.parser\")\n",
    "cerberus_img = soup.find('img', class_= 'wide-image')['src']\n",
    "cerberus_title = soup.find('h2', class_= 'title').get_text()\n",
    "cerberus_img_url= f'{base_url}{cerberus_img}'\n",
    "\n",
    "\n",
    "\n",
    "\n",
    "#schiaparelli\n",
    "browser.visit(schiaparelli_url)\n",
    "time.sleep(1)\n",
    "html = browser.html\n",
    "soup = bs(html,\"html.parser\")\n",
    "schiaparelli_img = soup.find('img', class_='wide-image')['src']\n",
    "schiaparelli_title = soup.find('h2', class_= 'title').get_text()\n",
    "schiaparelli_img_url = f'{base_url}{schiaparelli_img}'\n",
    "\n",
    "# syrtis\n",
    "browser.visit(syrtis_url)\n",
    "time.sleep(1)\n",
    "html = browser.html\n",
    "soup = bs(html,\"html.parser\")\n",
    "syrtis_img = soup.find('img', class_='wide-image')['src']\n",
    "syrtis_title = soup.find('h2', class_= 'title').get_text()\n",
    "syrtis_img_url = f'{base_url}{syrtis_img}'\n",
    "\n",
    "\n",
    "# valles\n",
    "browser.visit(valles_url)\n",
    "time.sleep(1)\n",
    "html = browser.html\n",
    "soup = bs(html,\"html.parser\")\n",
    "valles_img = soup.find('img', class_='wide-image')['src']\n",
    "valles_title = soup.find('h2', class_= 'title').get_text()\n",
    "valles_img_url = f'{base_url}{valles_img}'\n",
    "\n",
    "browser.quit()"
   ]
  },
  {
   "cell_type": "code",
   "execution_count": 79,
   "id": "ac408d87",
   "metadata": {},
   "outputs": [],
   "source": [
    "hemisphere_image_urls = []\n",
    "\n",
    "hemisphere_image_urls.append({\"title\":cerberus_title,\"img_url\":cerberus_img_url})\n",
    "hemisphere_image_urls.append({\"title\":schiaparelli_title,\"img_url\":schiaparelli_img_url})\n",
    "hemisphere_image_urls.append({\"title\":syrtis_title,\"img_url\":syrtis_img_url})\n",
    "hemisphere_image_urls.append({\"title\":valles_title,\"img_url\":valles_img_url})\n"
   ]
  },
  {
   "cell_type": "code",
   "execution_count": 80,
   "id": "263171dd",
   "metadata": {},
   "outputs": [
    {
     "name": "stdout",
     "output_type": "stream",
     "text": [
      "Cerberus Hemisphere Enhanced\n",
      "https://marshemispheres.com/images/f5e372a36edfa389625da6d0cc25d905_cerberus_enhanced.tif_full.jpg\n",
      "Schiaparelli Hemisphere Enhanced\n",
      "https://marshemispheres.com/images/3778f7b43bbbc89d6e3cfabb3613ba93_schiaparelli_enhanced.tif_full.jpg\n",
      "Syrtis Major Hemisphere Enhanced\n",
      "https://marshemispheres.com/images/555e6403a6ddd7ba16ddb0e471cadcf7_syrtis_major_enhanced.tif_full.jpg\n",
      "Valles Marineris Hemisphere Enhanced\n",
      "https://marshemispheres.com/images/b3c7c6c9138f57b4756be9b9c43e3a48_valles_marineris_enhanced.tif_full.jpg\n",
      "[{'title': 'Cerberus Hemisphere Enhanced', 'img_url': 'https://marshemispheres.com/images/f5e372a36edfa389625da6d0cc25d905_cerberus_enhanced.tif_full.jpg'}, {'title': 'Schiaparelli Hemisphere Enhanced', 'img_url': 'https://marshemispheres.com/images/3778f7b43bbbc89d6e3cfabb3613ba93_schiaparelli_enhanced.tif_full.jpg'}, {'title': 'Syrtis Major Hemisphere Enhanced', 'img_url': 'https://marshemispheres.com/images/555e6403a6ddd7ba16ddb0e471cadcf7_syrtis_major_enhanced.tif_full.jpg'}, {'title': 'Valles Marineris Hemisphere Enhanced', 'img_url': 'https://marshemispheres.com/images/b3c7c6c9138f57b4756be9b9c43e3a48_valles_marineris_enhanced.tif_full.jpg'}]\n"
     ]
    }
   ],
   "source": [
    "print(cerberus_title)\n",
    "print(cerberus_img_url)\n",
    "\n",
    "print(schiaparelli_title)\n",
    "print(schiaparelli_img_url)\n",
    "\n",
    "print(syrtis_title)\n",
    "print(syrtis_img_url)\n",
    "\n",
    "print(valles_title)\n",
    "print(valles_img_url)\n",
    "\n",
    "print(hemisphere_image_urls)"
   ]
  },
  {
   "cell_type": "code",
   "execution_count": null,
   "id": "979b1361",
   "metadata": {},
   "outputs": [],
   "source": [
    "\n",
    "\n",
    "\n",
    "\n",
    "\n",
    "\n",
    "\n",
    "\n",
    "\n",
    "\n",
    "\n",
    "\n"
   ]
  }
 ],
 "metadata": {
  "kernelspec": {
   "display_name": "Python 3",
   "language": "python",
   "name": "python3"
  },
  "language_info": {
   "codemirror_mode": {
    "name": "ipython",
    "version": 3
   },
   "file_extension": ".py",
   "mimetype": "text/x-python",
   "name": "python",
   "nbconvert_exporter": "python",
   "pygments_lexer": "ipython3",
   "version": "3.8.8"
  }
 },
 "nbformat": 4,
 "nbformat_minor": 5
}
